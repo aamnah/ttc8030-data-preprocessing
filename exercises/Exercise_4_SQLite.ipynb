{
 "cells": [
  {
   "cell_type": "markdown",
   "metadata": {},
   "source": [
    "## Exercise 4 - SQLite"
   ]
  },
  {
   "cell_type": "markdown",
   "metadata": {},
   "source": [
    "1 Add the necessary libraries for SQLite3 and make a database named `test.db`."
   ]
  },
  {
   "cell_type": "code",
   "execution_count": 7,
   "metadata": {},
   "outputs": [],
   "source": [
    "import sqlite3\n",
    "\n",
    "db_connection = sqlite3.connect('test.db')"
   ]
  },
  {
   "cell_type": "markdown",
   "metadata": {},
   "source": [
    "2 Create a connection to the database."
   ]
  },
  {
   "cell_type": "code",
   "execution_count": 8,
   "metadata": {},
   "outputs": [],
   "source": [
    "c = db_connection.cursor()"
   ]
  },
  {
   "cell_type": "markdown",
   "metadata": {},
   "source": [
    "3 Make the following table in the database, named `people`:\n",
    "    \n",
    "| name | age | shoe_size |\n",
    "| ------------- |-------------| -----|\n",
    "| Prank | 88 | 47 |\n",
    "| Matt | 34 | 39 |\n",
    "| Ilona | 41 | 36 |\n",
    "| Sonja | 32 | 37 |\n",
    "\n"
   ]
  },
  {
   "cell_type": "code",
   "execution_count": 9,
   "metadata": {},
   "outputs": [
    {
     "data": {
      "text/plain": [
       "[('Prank', 88, 47), ('Matt', 34, 39), ('Ilona', 41, 36), ('Sonja', 32, 37)]"
      ]
     },
     "execution_count": 9,
     "metadata": {},
     "output_type": "execute_result"
    }
   ],
   "source": [
    "# Create a table called 'people' with 'name', 'age', and 'show_size' columns\n",
    "c.execute(\"\"\"\n",
    "          CREATE TABLE \n",
    "            IF NOT EXISTS \n",
    "          people(name, age, shoe_size)\n",
    "         \"\"\")\n",
    "\n",
    "# sample values for the people table\n",
    "sample_sqlite_data_rows = [('Prank', 88, 47), ('Matt', 34, 39), ('Ilona', 41, 36), ('Sonja', 32, 37)]\n",
    "\n",
    "# insert rows in people table based on sample_data\n",
    "for data_row in sample_sqlite_data_rows:\n",
    "    c.execute(f\"\"\"\n",
    "              INSERT INTO people VALUES \n",
    "                {data_row}\n",
    "             \"\"\")\n",
    "\n",
    "# Saving the changes\n",
    "db_connection.commit()\n",
    "\n",
    "# Retrieving all data in the original format\n",
    "data = c.execute('''SELECT * FROM people''')\n",
    "retrieved_data = data.fetchall()\n",
    "\n",
    "retrieved_data"
   ]
  },
  {
   "cell_type": "markdown",
   "metadata": {},
   "source": [
    "4 When the Table has been created, convert the table to the Pandas DataFrame object and add the column `hat_size' to it, then fill that column with the values ​​you choose."
   ]
  },
  {
   "cell_type": "code",
   "execution_count": 10,
   "metadata": {},
   "outputs": [
    {
     "data": {
      "text/html": [
       "<div>\n",
       "<style scoped>\n",
       "    .dataframe tbody tr th:only-of-type {\n",
       "        vertical-align: middle;\n",
       "    }\n",
       "\n",
       "    .dataframe tbody tr th {\n",
       "        vertical-align: top;\n",
       "    }\n",
       "\n",
       "    .dataframe thead th {\n",
       "        text-align: right;\n",
       "    }\n",
       "</style>\n",
       "<table border=\"1\" class=\"dataframe\">\n",
       "  <thead>\n",
       "    <tr style=\"text-align: right;\">\n",
       "      <th></th>\n",
       "      <th>name</th>\n",
       "      <th>age</th>\n",
       "      <th>shoe_size</th>\n",
       "      <th>hat_size</th>\n",
       "    </tr>\n",
       "  </thead>\n",
       "  <tbody>\n",
       "    <tr>\n",
       "      <th>0</th>\n",
       "      <td>Prank</td>\n",
       "      <td>88</td>\n",
       "      <td>47</td>\n",
       "      <td>12</td>\n",
       "    </tr>\n",
       "    <tr>\n",
       "      <th>1</th>\n",
       "      <td>Matt</td>\n",
       "      <td>34</td>\n",
       "      <td>39</td>\n",
       "      <td>13</td>\n",
       "    </tr>\n",
       "    <tr>\n",
       "      <th>2</th>\n",
       "      <td>Ilona</td>\n",
       "      <td>41</td>\n",
       "      <td>36</td>\n",
       "      <td>14</td>\n",
       "    </tr>\n",
       "    <tr>\n",
       "      <th>3</th>\n",
       "      <td>Sonja</td>\n",
       "      <td>32</td>\n",
       "      <td>37</td>\n",
       "      <td>16</td>\n",
       "    </tr>\n",
       "  </tbody>\n",
       "</table>\n",
       "</div>"
      ],
      "text/plain": [
       "    name  age  shoe_size  hat_size\n",
       "0  Prank   88         47        12\n",
       "1   Matt   34         39        13\n",
       "2  Ilona   41         36        14\n",
       "3  Sonja   32         37        16"
      ]
     },
     "execution_count": 10,
     "metadata": {},
     "output_type": "execute_result"
    }
   ],
   "source": [
    "import pandas as pd\n",
    "\n",
    "df = pd.read_sql(\"SELECT * FROM people\", db_connection)\n",
    "df['hat_size'] = [12, 13, 14, 16]\n",
    "\n",
    "df"
   ]
  },
  {
   "cell_type": "markdown",
   "metadata": {},
   "source": [
    "5 Make a copy of the DataFrame object with the name `person_table_copy` and add a row to it with the values ​you choose. Now save this modified dataframe object in the database as `person_table_copy` (will be created next to the previous table)."
   ]
  },
  {
   "cell_type": "code",
   "execution_count": 11,
   "metadata": {},
   "outputs": [
    {
     "data": {
      "text/plain": [
       "[('Prank', 88, 47, 12),\n",
       " ('Matt', 34, 39, 13),\n",
       " ('Ilona', 41, 36, 14),\n",
       " ('Sonja', 32, 37, 16),\n",
       " ('Bart', 12, 35, 31)]"
      ]
     },
     "execution_count": 11,
     "metadata": {},
     "output_type": "execute_result"
    }
   ],
   "source": [
    "person_table_copy = df.copy()\n",
    "\n",
    "# Add a row at the end of an existing dataframe\n",
    "# df.loc[len(df.index)] = ['Bart', 12, 35, 31]\n",
    "\n",
    "# Create two dataframes, with one containing the data to append to the original, and concat them\n",
    "data_to_append = pd.DataFrame({'name': ['Bart'], 'age': [12], 'shoe_size': [35], 'hat_size': [31]})\n",
    "\n",
    "person_table_copy = pd.concat([person_table_copy, data_to_append])\n",
    "\n",
    "# Save the merged dataframe to the database as a new table\n",
    "person_table_copy.to_sql(name='person_table_copy', con=db_connection, if_exists='fail', index=False)\n",
    "\n",
    "# Confirm that table was created\n",
    "result = c.execute(\"SELECT * FROM person_table_copy\")\n",
    "result.fetchall()"
   ]
  },
  {
   "cell_type": "markdown",
   "metadata": {},
   "source": [
    "6 Finally, save the database changes and close the connection."
   ]
  },
  {
   "cell_type": "code",
   "execution_count": 12,
   "metadata": {},
   "outputs": [],
   "source": [
    "# Save the changes\n",
    "db_connection.commit()\n",
    "\n",
    "# Close the connect\n",
    "db_connection.close()"
   ]
  }
 ],
 "metadata": {
  "kernelspec": {
   "display_name": "Python 3",
   "language": "python",
   "name": "python3"
  },
  "language_info": {
   "codemirror_mode": {
    "name": "ipython",
    "version": 3
   },
   "file_extension": ".py",
   "mimetype": "text/x-python",
   "name": "python",
   "nbconvert_exporter": "python",
   "pygments_lexer": "ipython3",
   "version": "3.11.7"
  }
 },
 "nbformat": 4,
 "nbformat_minor": 2
}
