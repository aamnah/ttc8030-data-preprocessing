{
 "cells": [
  {
   "cell_type": "markdown",
   "metadata": {},
   "source": [
    "## Exercise 3 - Rest API"
   ]
  },
  {
   "cell_type": "markdown",
   "metadata": {},
   "source": [
    "In the first task section, an interface about the services of the capital region. This interface is also used in the examples.\n",
    "\n",
    "Information about the service can be found at: https://www.hel.fi/palvelukarttaws/restpages/palvelurekisteri_en.html\n",
    "\n",
    "---\n",
    "\n",
    "In the second task section, Digitraffic's rest interface is used, to which the skills are to be applied.\n",
    "\n",
    "Information about the service can be found at: https://rata.digitraffic.fi/swagger/"
   ]
  },
  {
   "cell_type": "markdown",
   "metadata": {},
   "source": [
    "### Tasks of the interface of the capital region's services"
   ]
  },
  {
   "cell_type": "markdown",
   "metadata": {},
   "source": [
    "Url for the interface: http://www.hel.fi/palvelukarttaws/rest/vpalvelurekisteri"
   ]
  },
  {
   "cell_type": "markdown",
   "metadata": {},
   "source": [
    "1 Add the libraries to be used and create the interface url with `/description/`."
   ]
  },
  {
   "cell_type": "code",
   "execution_count": 119,
   "metadata": {},
   "outputs": [],
   "source": [
    "import requests\n",
    "\n",
    "base_url = \"https://www.hel.fi/palvelukarttaws/rest/vpalvelurekisteri/\"\n",
    "endpoint = \"/description/\"\n",
    "\n",
    "url = f\"{base_url}{endpoint}\"\n",
    "params = {'language': 'en'}"
   ]
  },
  {
   "cell_type": "markdown",
   "metadata": {},
   "source": [
    "2 Make a get request to the address and make sure that the search is successful and the response code is 200."
   ]
  },
  {
   "cell_type": "code",
   "execution_count": 120,
   "metadata": {},
   "outputs": [
    {
     "data": {
      "text/plain": [
       "200"
      ]
     },
     "execution_count": 120,
     "metadata": {},
     "output_type": "execute_result"
    }
   ],
   "source": [
    "req = requests.get(url, params)\n",
    "req.status_code"
   ]
  },
  {
   "cell_type": "markdown",
   "metadata": {},
   "source": [
    "3 Save the answer to the variable as a list whose elements are in json format."
   ]
  },
  {
   "cell_type": "code",
   "execution_count": 121,
   "metadata": {},
   "outputs": [],
   "source": [
    "data_from_api = req.json()\n",
    "# data_from_api"
   ]
  },
  {
   "cell_type": "markdown",
   "metadata": {},
   "source": [
    "4 From the list object, select the latest json record whose `service_id` key value is 10473 (10473 has three values) and place the `id` key value of that json record in the variable."
   ]
  },
  {
   "cell_type": "code",
   "execution_count": 122,
   "metadata": {},
   "outputs": [
    {
     "data": {
      "text/plain": [
       "4483"
      ]
     },
     "execution_count": 122,
     "metadata": {},
     "output_type": "execute_result"
    }
   ],
   "source": [
    "service_id = 10473\n",
    "record_id = 0\n",
    "\n",
    "for i in data_from_api:\n",
    "    if i['service_id'] == service_id:\n",
    "        record_id = i['id']\n",
    "        \n",
    "record_id"
   ]
  },
  {
   "cell_type": "markdown",
   "metadata": {},
   "source": [
    "5 Make a new get request to the same address as before (also the endpoint remains the same), but take into account the variable selected in the previous point (the variable that contains the value of `id`) in the request."
   ]
  },
  {
   "cell_type": "code",
   "execution_count": 123,
   "metadata": {},
   "outputs": [
    {
     "data": {
      "text/plain": [
       "{'id': 4483,\n",
       " 'main_description': False,\n",
       " 'service_id': 10473,\n",
       " 'title': 'Nature Information System',\n",
       " 'name_synonyms': 'Nature',\n",
       " 'description_short': 'The Nature Information System provides information on the biodiverse nature in Helsinki. The key nature data sets include the nature reserves and hundreds of other valuable natural sites.',\n",
       " 'description_long': \"The Nature Information System also includes information on the important flora and bird areas, geological sites, bat areas, polypore areas and forest areas, among other things.\\n\\nYou can view the chosen data sets on top of various background maps or an aerial photo. See the site report for each area to read more about the area and species spotted there. You can use the search function to look for a particular site, for example.\\n\\nThe data content of the Nature Information System's public version is filtered for nature conservation reasons.\\n\",\n",
       " 'prerequisites': 'If you want to use the system for planning and research purposes, please use the version intended for city officials. Use of this official version requires you to have personal access rights.',\n",
       " 'provided_languages': ['fi', 'sv'],\n",
       " 'responsible_depts': ['85080572-9a95-4a18-be6b-5bc306eb3d85'],\n",
       " 'target_groups': [],\n",
       " 'life_events': [],\n",
       " 'errand_services': [],\n",
       " 'exact_errand_services': [],\n",
       " 'links': [{'type': 'INTERNET',\n",
       "   'title': 'Nature Information System',\n",
       "   'url': 'https://www.hel.fi/en/urban-environment-and-traffic/protection-of-the-environment-and-nature/nature-conservation-and-biodiversity/nature-information-system'}],\n",
       " 'availabilities': [],\n",
       " 'unit_ids': []}"
      ]
     },
     "execution_count": 123,
     "metadata": {},
     "output_type": "execute_result"
    }
   ],
   "source": [
    "req2 = requests.get(f\"{url}{record_id}/\", params)\n",
    "\n",
    "service_data = req2.json()\n",
    "\n",
    "service_data"
   ]
  },
  {
   "cell_type": "markdown",
   "metadata": {},
   "source": [
    "6 Print the value of the `title` key from the response message."
   ]
  },
  {
   "cell_type": "code",
   "execution_count": 124,
   "metadata": {},
   "outputs": [
    {
     "data": {
      "text/plain": [
       "'Nature Information System'"
      ]
     },
     "execution_count": 124,
     "metadata": {},
     "output_type": "execute_result"
    }
   ],
   "source": [
    "service_data['title']"
   ]
  },
  {
   "cell_type": "markdown",
   "metadata": {},
   "source": [
    "---"
   ]
  },
  {
   "cell_type": "markdown",
   "metadata": {},
   "source": [
    "### Tasks of the Digitraffic interface"
   ]
  },
  {
   "cell_type": "markdown",
   "metadata": {},
   "source": [
    "7 Search the Digitraffic interface according to the service instructions for the train from 06.06.2018 with the trainnumber of 1."
   ]
  },
  {
   "cell_type": "code",
   "execution_count": 125,
   "metadata": {},
   "outputs": [],
   "source": [
    "departure_date = \"2018-06-06\"\n",
    "train_number = 1\n",
    "\n",
    "digitraffic_baseurl = \"https://rata.digitraffic.fi/api/v1/trains\"\n",
    "trains_api_url = f\"{digitraffic_baseurl}/{departure_date}/{train_number}\"\n",
    "# https://rata.digitraffic.fi/api/v1/trains/2018-06-06/1\n",
    "\n",
    "req = requests.get(trains_api_url)\n",
    "train_data = req.json()\n",
    "\n",
    "# train_data"
   ]
  },
  {
   "cell_type": "markdown",
   "metadata": {},
   "source": [
    "8 Create a DataFrame from the result of the get request of the previous task (from the entire data of train 1 at date 06.06.2018), if even one value of the `scheduledTime` key is before the timestamp '2018-06-06T06:00:00.000Z'."
   ]
  },
  {
   "cell_type": "code",
   "execution_count": 126,
   "metadata": {},
   "outputs": [
    {
     "data": {
      "text/html": [
       "<div>\n",
       "<style scoped>\n",
       "    .dataframe tbody tr th:only-of-type {\n",
       "        vertical-align: middle;\n",
       "    }\n",
       "\n",
       "    .dataframe tbody tr th {\n",
       "        vertical-align: top;\n",
       "    }\n",
       "\n",
       "    .dataframe thead th {\n",
       "        text-align: right;\n",
       "    }\n",
       "</style>\n",
       "<table border=\"1\" class=\"dataframe\">\n",
       "  <thead>\n",
       "    <tr style=\"text-align: right;\">\n",
       "      <th></th>\n",
       "      <th>stationShortCode</th>\n",
       "      <th>stationUICCode</th>\n",
       "      <th>countryCode</th>\n",
       "      <th>type</th>\n",
       "      <th>trainStopping</th>\n",
       "      <th>commercialStop</th>\n",
       "      <th>commercialTrack</th>\n",
       "      <th>cancelled</th>\n",
       "      <th>scheduledTime</th>\n",
       "      <th>actualTime</th>\n",
       "      <th>differenceInMinutes</th>\n",
       "      <th>causes</th>\n",
       "      <th>trainReady.source</th>\n",
       "      <th>trainReady.accepted</th>\n",
       "      <th>trainReady.timestamp</th>\n",
       "      <th>liveEstimateTime</th>\n",
       "      <th>estimateSource</th>\n",
       "    </tr>\n",
       "  </thead>\n",
       "  <tbody>\n",
       "    <tr>\n",
       "      <th>0</th>\n",
       "      <td>HKI</td>\n",
       "      <td>1</td>\n",
       "      <td>FI</td>\n",
       "      <td>DEPARTURE</td>\n",
       "      <td>True</td>\n",
       "      <td>True</td>\n",
       "      <td>8</td>\n",
       "      <td>False</td>\n",
       "      <td>2018-06-06T04:09:00.000Z</td>\n",
       "      <td>2018-06-06T04:13:22.000Z</td>\n",
       "      <td>4</td>\n",
       "      <td>[{'categoryCode': 'H', 'categoryCodeId': 25172...</td>\n",
       "      <td>KUPLA</td>\n",
       "      <td>True</td>\n",
       "      <td>2018-06-06T04:12:21.000Z</td>\n",
       "      <td>NaN</td>\n",
       "      <td>NaN</td>\n",
       "    </tr>\n",
       "    <tr>\n",
       "      <th>1</th>\n",
       "      <td>PSL</td>\n",
       "      <td>10</td>\n",
       "      <td>FI</td>\n",
       "      <td>ARRIVAL</td>\n",
       "      <td>True</td>\n",
       "      <td>True</td>\n",
       "      <td>4</td>\n",
       "      <td>False</td>\n",
       "      <td>2018-06-06T04:14:00.000Z</td>\n",
       "      <td>2018-06-06T04:18:15.000Z</td>\n",
       "      <td>4</td>\n",
       "      <td>[]</td>\n",
       "      <td>NaN</td>\n",
       "      <td>NaN</td>\n",
       "      <td>NaN</td>\n",
       "      <td>NaN</td>\n",
       "      <td>NaN</td>\n",
       "    </tr>\n",
       "    <tr>\n",
       "      <th>2</th>\n",
       "      <td>PSL</td>\n",
       "      <td>10</td>\n",
       "      <td>FI</td>\n",
       "      <td>DEPARTURE</td>\n",
       "      <td>True</td>\n",
       "      <td>True</td>\n",
       "      <td>4</td>\n",
       "      <td>False</td>\n",
       "      <td>2018-06-06T04:15:00.000Z</td>\n",
       "      <td>2018-06-06T04:19:31.000Z</td>\n",
       "      <td>5</td>\n",
       "      <td>[]</td>\n",
       "      <td>NaN</td>\n",
       "      <td>NaN</td>\n",
       "      <td>NaN</td>\n",
       "      <td>NaN</td>\n",
       "      <td>NaN</td>\n",
       "    </tr>\n",
       "    <tr>\n",
       "      <th>3</th>\n",
       "      <td>KÄP</td>\n",
       "      <td>977</td>\n",
       "      <td>FI</td>\n",
       "      <td>ARRIVAL</td>\n",
       "      <td>False</td>\n",
       "      <td>NaN</td>\n",
       "      <td></td>\n",
       "      <td>False</td>\n",
       "      <td>2018-06-06T04:17:00.000Z</td>\n",
       "      <td>2018-06-06T04:21:48.000Z</td>\n",
       "      <td>5</td>\n",
       "      <td>[]</td>\n",
       "      <td>NaN</td>\n",
       "      <td>NaN</td>\n",
       "      <td>NaN</td>\n",
       "      <td>NaN</td>\n",
       "      <td>NaN</td>\n",
       "    </tr>\n",
       "    <tr>\n",
       "      <th>4</th>\n",
       "      <td>KÄP</td>\n",
       "      <td>977</td>\n",
       "      <td>FI</td>\n",
       "      <td>DEPARTURE</td>\n",
       "      <td>False</td>\n",
       "      <td>NaN</td>\n",
       "      <td></td>\n",
       "      <td>False</td>\n",
       "      <td>2018-06-06T04:17:00.000Z</td>\n",
       "      <td>2018-06-06T04:21:48.000Z</td>\n",
       "      <td>5</td>\n",
       "      <td>[]</td>\n",
       "      <td>NaN</td>\n",
       "      <td>NaN</td>\n",
       "      <td>NaN</td>\n",
       "      <td>NaN</td>\n",
       "      <td>NaN</td>\n",
       "    </tr>\n",
       "    <tr>\n",
       "      <th>...</th>\n",
       "      <td>...</td>\n",
       "      <td>...</td>\n",
       "      <td>...</td>\n",
       "      <td>...</td>\n",
       "      <td>...</td>\n",
       "      <td>...</td>\n",
       "      <td>...</td>\n",
       "      <td>...</td>\n",
       "      <td>...</td>\n",
       "      <td>...</td>\n",
       "      <td>...</td>\n",
       "      <td>...</td>\n",
       "      <td>...</td>\n",
       "      <td>...</td>\n",
       "      <td>...</td>\n",
       "      <td>...</td>\n",
       "      <td>...</td>\n",
       "    </tr>\n",
       "    <tr>\n",
       "      <th>74</th>\n",
       "      <td>KPA</td>\n",
       "      <td>485</td>\n",
       "      <td>FI</td>\n",
       "      <td>DEPARTURE</td>\n",
       "      <td>False</td>\n",
       "      <td>NaN</td>\n",
       "      <td></td>\n",
       "      <td>False</td>\n",
       "      <td>2018-06-06T05:50:00.000Z</td>\n",
       "      <td>2018-06-06T05:58:48.000Z</td>\n",
       "      <td>9</td>\n",
       "      <td>[]</td>\n",
       "      <td>NaN</td>\n",
       "      <td>NaN</td>\n",
       "      <td>NaN</td>\n",
       "      <td>NaN</td>\n",
       "      <td>NaN</td>\n",
       "    </tr>\n",
       "    <tr>\n",
       "      <th>75</th>\n",
       "      <td>KJR</td>\n",
       "      <td>944</td>\n",
       "      <td>FI</td>\n",
       "      <td>ARRIVAL</td>\n",
       "      <td>False</td>\n",
       "      <td>NaN</td>\n",
       "      <td></td>\n",
       "      <td>False</td>\n",
       "      <td>2018-06-06T05:54:00.000Z</td>\n",
       "      <td>2018-06-06T06:02:38.000Z</td>\n",
       "      <td>9</td>\n",
       "      <td>[]</td>\n",
       "      <td>NaN</td>\n",
       "      <td>NaN</td>\n",
       "      <td>NaN</td>\n",
       "      <td>NaN</td>\n",
       "      <td>NaN</td>\n",
       "    </tr>\n",
       "    <tr>\n",
       "      <th>76</th>\n",
       "      <td>KJR</td>\n",
       "      <td>944</td>\n",
       "      <td>FI</td>\n",
       "      <td>DEPARTURE</td>\n",
       "      <td>False</td>\n",
       "      <td>NaN</td>\n",
       "      <td></td>\n",
       "      <td>False</td>\n",
       "      <td>2018-06-06T05:54:00.000Z</td>\n",
       "      <td>2018-06-06T06:02:38.000Z</td>\n",
       "      <td>9</td>\n",
       "      <td>[]</td>\n",
       "      <td>NaN</td>\n",
       "      <td>NaN</td>\n",
       "      <td>NaN</td>\n",
       "      <td>NaN</td>\n",
       "      <td>NaN</td>\n",
       "    </tr>\n",
       "    <tr>\n",
       "      <th>77</th>\n",
       "      <td>TA</td>\n",
       "      <td>486</td>\n",
       "      <td>FI</td>\n",
       "      <td>ARRIVAL</td>\n",
       "      <td>False</td>\n",
       "      <td>NaN</td>\n",
       "      <td></td>\n",
       "      <td>False</td>\n",
       "      <td>2018-06-06T05:59:00.000Z</td>\n",
       "      <td>2018-06-06T06:07:01.000Z</td>\n",
       "      <td>8</td>\n",
       "      <td>[]</td>\n",
       "      <td>NaN</td>\n",
       "      <td>NaN</td>\n",
       "      <td>NaN</td>\n",
       "      <td>NaN</td>\n",
       "      <td>NaN</td>\n",
       "    </tr>\n",
       "    <tr>\n",
       "      <th>78</th>\n",
       "      <td>TA</td>\n",
       "      <td>486</td>\n",
       "      <td>FI</td>\n",
       "      <td>DEPARTURE</td>\n",
       "      <td>False</td>\n",
       "      <td>NaN</td>\n",
       "      <td></td>\n",
       "      <td>False</td>\n",
       "      <td>2018-06-06T05:59:00.000Z</td>\n",
       "      <td>2018-06-06T06:07:01.000Z</td>\n",
       "      <td>8</td>\n",
       "      <td>[]</td>\n",
       "      <td>NaN</td>\n",
       "      <td>NaN</td>\n",
       "      <td>NaN</td>\n",
       "      <td>NaN</td>\n",
       "      <td>NaN</td>\n",
       "    </tr>\n",
       "  </tbody>\n",
       "</table>\n",
       "<p>79 rows × 17 columns</p>\n",
       "</div>"
      ],
      "text/plain": [
       "   stationShortCode  stationUICCode countryCode       type  trainStopping  \\\n",
       "0               HKI               1          FI  DEPARTURE           True   \n",
       "1               PSL              10          FI    ARRIVAL           True   \n",
       "2               PSL              10          FI  DEPARTURE           True   \n",
       "3               KÄP             977          FI    ARRIVAL          False   \n",
       "4               KÄP             977          FI  DEPARTURE          False   \n",
       "..              ...             ...         ...        ...            ...   \n",
       "74              KPA             485          FI  DEPARTURE          False   \n",
       "75              KJR             944          FI    ARRIVAL          False   \n",
       "76              KJR             944          FI  DEPARTURE          False   \n",
       "77               TA             486          FI    ARRIVAL          False   \n",
       "78               TA             486          FI  DEPARTURE          False   \n",
       "\n",
       "   commercialStop commercialTrack  cancelled             scheduledTime  \\\n",
       "0            True               8      False  2018-06-06T04:09:00.000Z   \n",
       "1            True               4      False  2018-06-06T04:14:00.000Z   \n",
       "2            True               4      False  2018-06-06T04:15:00.000Z   \n",
       "3             NaN                      False  2018-06-06T04:17:00.000Z   \n",
       "4             NaN                      False  2018-06-06T04:17:00.000Z   \n",
       "..            ...             ...        ...                       ...   \n",
       "74            NaN                      False  2018-06-06T05:50:00.000Z   \n",
       "75            NaN                      False  2018-06-06T05:54:00.000Z   \n",
       "76            NaN                      False  2018-06-06T05:54:00.000Z   \n",
       "77            NaN                      False  2018-06-06T05:59:00.000Z   \n",
       "78            NaN                      False  2018-06-06T05:59:00.000Z   \n",
       "\n",
       "                  actualTime  differenceInMinutes  \\\n",
       "0   2018-06-06T04:13:22.000Z                    4   \n",
       "1   2018-06-06T04:18:15.000Z                    4   \n",
       "2   2018-06-06T04:19:31.000Z                    5   \n",
       "3   2018-06-06T04:21:48.000Z                    5   \n",
       "4   2018-06-06T04:21:48.000Z                    5   \n",
       "..                       ...                  ...   \n",
       "74  2018-06-06T05:58:48.000Z                    9   \n",
       "75  2018-06-06T06:02:38.000Z                    9   \n",
       "76  2018-06-06T06:02:38.000Z                    9   \n",
       "77  2018-06-06T06:07:01.000Z                    8   \n",
       "78  2018-06-06T06:07:01.000Z                    8   \n",
       "\n",
       "                                               causes trainReady.source  \\\n",
       "0   [{'categoryCode': 'H', 'categoryCodeId': 25172...             KUPLA   \n",
       "1                                                  []               NaN   \n",
       "2                                                  []               NaN   \n",
       "3                                                  []               NaN   \n",
       "4                                                  []               NaN   \n",
       "..                                                ...               ...   \n",
       "74                                                 []               NaN   \n",
       "75                                                 []               NaN   \n",
       "76                                                 []               NaN   \n",
       "77                                                 []               NaN   \n",
       "78                                                 []               NaN   \n",
       "\n",
       "   trainReady.accepted      trainReady.timestamp liveEstimateTime  \\\n",
       "0                 True  2018-06-06T04:12:21.000Z              NaN   \n",
       "1                  NaN                       NaN              NaN   \n",
       "2                  NaN                       NaN              NaN   \n",
       "3                  NaN                       NaN              NaN   \n",
       "4                  NaN                       NaN              NaN   \n",
       "..                 ...                       ...              ...   \n",
       "74                 NaN                       NaN              NaN   \n",
       "75                 NaN                       NaN              NaN   \n",
       "76                 NaN                       NaN              NaN   \n",
       "77                 NaN                       NaN              NaN   \n",
       "78                 NaN                       NaN              NaN   \n",
       "\n",
       "   estimateSource  \n",
       "0             NaN  \n",
       "1             NaN  \n",
       "2             NaN  \n",
       "3             NaN  \n",
       "4             NaN  \n",
       "..            ...  \n",
       "74            NaN  \n",
       "75            NaN  \n",
       "76            NaN  \n",
       "77            NaN  \n",
       "78            NaN  \n",
       "\n",
       "[79 rows x 17 columns]"
      ]
     },
     "execution_count": 126,
     "metadata": {},
     "output_type": "execute_result"
    }
   ],
   "source": [
    "import pandas as pd\n",
    "\n",
    "timestamp = '2018-06-06T06:00:00.000Z'\n",
    "\n",
    "# Create a dataframe based on values in the timeTableRows list\n",
    "# more useful, but probably not asked for\n",
    "data = []\n",
    "for train in train_data:\n",
    "    for time in train['timeTableRows']:\n",
    "        if time['scheduledTime'] < timestamp:\n",
    "            data.append(time)\n",
    "\n",
    "df = pd.json_normalize(data)\n",
    "df"
   ]
  },
  {
   "cell_type": "code",
   "execution_count": 127,
   "metadata": {},
   "outputs": [
    {
     "data": {
      "text/html": [
       "<div>\n",
       "<style scoped>\n",
       "    .dataframe tbody tr th:only-of-type {\n",
       "        vertical-align: middle;\n",
       "    }\n",
       "\n",
       "    .dataframe tbody tr th {\n",
       "        vertical-align: top;\n",
       "    }\n",
       "\n",
       "    .dataframe thead th {\n",
       "        text-align: right;\n",
       "    }\n",
       "</style>\n",
       "<table border=\"1\" class=\"dataframe\">\n",
       "  <thead>\n",
       "    <tr style=\"text-align: right;\">\n",
       "      <th></th>\n",
       "      <th>trainNumber</th>\n",
       "      <th>departureDate</th>\n",
       "      <th>operatorUICCode</th>\n",
       "      <th>operatorShortCode</th>\n",
       "      <th>trainType</th>\n",
       "      <th>trainCategory</th>\n",
       "      <th>commuterLineID</th>\n",
       "      <th>runningCurrently</th>\n",
       "      <th>cancelled</th>\n",
       "      <th>version</th>\n",
       "      <th>timetableType</th>\n",
       "      <th>timetableAcceptanceDate</th>\n",
       "      <th>timeTableRows</th>\n",
       "    </tr>\n",
       "  </thead>\n",
       "  <tbody>\n",
       "    <tr>\n",
       "      <th>0</th>\n",
       "      <td>1</td>\n",
       "      <td>2018-06-06</td>\n",
       "      <td>10</td>\n",
       "      <td>vr</td>\n",
       "      <td>IC</td>\n",
       "      <td>Long-distance</td>\n",
       "      <td></td>\n",
       "      <td>False</td>\n",
       "      <td>False</td>\n",
       "      <td>270528660210</td>\n",
       "      <td>REGULAR</td>\n",
       "      <td>2018-03-05T10:02:10.000Z</td>\n",
       "      <td>[{'stationShortCode': 'HKI', 'stationUICCode':...</td>\n",
       "    </tr>\n",
       "  </tbody>\n",
       "</table>\n",
       "</div>"
      ],
      "text/plain": [
       "   trainNumber departureDate  operatorUICCode operatorShortCode trainType  \\\n",
       "0            1    2018-06-06               10                vr        IC   \n",
       "\n",
       "   trainCategory commuterLineID  runningCurrently  cancelled       version  \\\n",
       "0  Long-distance                            False      False  270528660210   \n",
       "\n",
       "  timetableType   timetableAcceptanceDate  \\\n",
       "0       REGULAR  2018-03-05T10:02:10.000Z   \n",
       "\n",
       "                                       timeTableRows  \n",
       "0  [{'stationShortCode': 'HKI', 'stationUICCode':...  "
      ]
     },
     "execution_count": 127,
     "metadata": {},
     "output_type": "execute_result"
    }
   ],
   "source": [
    "import pandas as pd\n",
    "\n",
    "timestamp = '2018-06-06T06:00:00.000Z'\n",
    "\n",
    "# Create a dataframe based on the entire result of the API call\n",
    "for train in train_data:\n",
    "    for time in train['timeTableRows']:\n",
    "        if time['scheduledTime'] < timestamp:\n",
    "            df = pd.json_normalize(train_data)\n",
    "            break\n",
    "\n",
    "df"
   ]
  },
  {
   "cell_type": "markdown",
   "metadata": {},
   "source": [
    "9 Print the only row from the generated DataFrame object, if one is created."
   ]
  },
  {
   "cell_type": "code",
   "execution_count": 128,
   "metadata": {},
   "outputs": [
    {
     "data": {
      "text/html": [
       "<div>\n",
       "<style scoped>\n",
       "    .dataframe tbody tr th:only-of-type {\n",
       "        vertical-align: middle;\n",
       "    }\n",
       "\n",
       "    .dataframe tbody tr th {\n",
       "        vertical-align: top;\n",
       "    }\n",
       "\n",
       "    .dataframe thead th {\n",
       "        text-align: right;\n",
       "    }\n",
       "</style>\n",
       "<table border=\"1\" class=\"dataframe\">\n",
       "  <thead>\n",
       "    <tr style=\"text-align: right;\">\n",
       "      <th></th>\n",
       "      <th>trainNumber</th>\n",
       "      <th>departureDate</th>\n",
       "      <th>operatorUICCode</th>\n",
       "      <th>operatorShortCode</th>\n",
       "      <th>trainType</th>\n",
       "      <th>trainCategory</th>\n",
       "      <th>commuterLineID</th>\n",
       "      <th>runningCurrently</th>\n",
       "      <th>cancelled</th>\n",
       "      <th>version</th>\n",
       "      <th>timetableType</th>\n",
       "      <th>timetableAcceptanceDate</th>\n",
       "      <th>timeTableRows</th>\n",
       "    </tr>\n",
       "  </thead>\n",
       "  <tbody>\n",
       "    <tr>\n",
       "      <th>0</th>\n",
       "      <td>1</td>\n",
       "      <td>2018-06-06</td>\n",
       "      <td>10</td>\n",
       "      <td>vr</td>\n",
       "      <td>IC</td>\n",
       "      <td>Long-distance</td>\n",
       "      <td></td>\n",
       "      <td>False</td>\n",
       "      <td>False</td>\n",
       "      <td>270528660210</td>\n",
       "      <td>REGULAR</td>\n",
       "      <td>2018-03-05T10:02:10.000Z</td>\n",
       "      <td>[{'stationShortCode': 'HKI', 'stationUICCode':...</td>\n",
       "    </tr>\n",
       "  </tbody>\n",
       "</table>\n",
       "</div>"
      ],
      "text/plain": [
       "   trainNumber departureDate  operatorUICCode operatorShortCode trainType  \\\n",
       "0            1    2018-06-06               10                vr        IC   \n",
       "\n",
       "   trainCategory commuterLineID  runningCurrently  cancelled       version  \\\n",
       "0  Long-distance                            False      False  270528660210   \n",
       "\n",
       "  timetableType   timetableAcceptanceDate  \\\n",
       "0       REGULAR  2018-03-05T10:02:10.000Z   \n",
       "\n",
       "                                       timeTableRows  \n",
       "0  [{'stationShortCode': 'HKI', 'stationUICCode':...  "
      ]
     },
     "execution_count": 128,
     "metadata": {},
     "output_type": "execute_result"
    }
   ],
   "source": [
    "df"
   ]
  }
 ],
 "metadata": {
  "kernelspec": {
   "display_name": "Python 3",
   "language": "python",
   "name": "python3"
  },
  "language_info": {
   "codemirror_mode": {
    "name": "ipython",
    "version": 3
   },
   "file_extension": ".py",
   "mimetype": "text/x-python",
   "name": "python",
   "nbconvert_exporter": "python",
   "pygments_lexer": "ipython3",
   "version": "3.11.7"
  }
 },
 "nbformat": 4,
 "nbformat_minor": 2
}
