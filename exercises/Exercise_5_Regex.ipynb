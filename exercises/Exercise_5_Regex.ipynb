{
 "cells": [
  {
   "cell_type": "markdown",
   "metadata": {},
   "source": [
    "## Exercise 5 - Regex"
   ]
  },
  {
   "cell_type": "markdown",
   "metadata": {},
   "source": [
    "In the regex task section, syntax used for the example text was retrieved from here: https://loremipsum.io/."
   ]
  },
  {
   "cell_type": "code",
   "execution_count": 53,
   "metadata": {},
   "outputs": [],
   "source": [
    "example_text = \"Lorem ipsum dolorolo at sit amet, consectetur ipsumm adipiscing elit, sed do eiusmod tempor incididunt ut labore et dolore magna aliqua. Ut enim ad minim veniam, quis nostrud exercitation ullamco (laboris) nisi ut (aliquip) ex ea commodo consequat. [192.168.1.1:8080] Duis aute irure dolor in reprehenderit in voluptate velit esse cillum dolore eu fugiat nulla pariatur. Excepteur sint occaecat cupidatat non proident, sunt in culpa qui officia deserunt mollit anim id est laborum. [192.168.1.254:80]\""
   ]
  },
  {
   "cell_type": "markdown",
   "metadata": {},
   "source": [
    "1 Add the necessary libraries."
   ]
  },
  {
   "cell_type": "code",
   "execution_count": 54,
   "metadata": {},
   "outputs": [],
   "source": [
    "import re"
   ]
  },
  {
   "cell_type": "markdown",
   "metadata": {},
   "source": [
    "2 Find how many times the word `ipsum` appears in the text."
   ]
  },
  {
   "cell_type": "code",
   "execution_count": 55,
   "metadata": {},
   "outputs": [
    {
     "data": {
      "text/plain": [
       "1"
      ]
     },
     "execution_count": 55,
     "metadata": {},
     "output_type": "execute_result"
    }
   ],
   "source": [
    "# the \"r\" in the beginning is making sure that the string is being treated as a \"raw string\"\n",
    "#  \\b = for word boundary\n",
    "re_pattern = r\"\\bipsum\\b\"\n",
    "\n",
    "ipsum_word_count = len(re.findall(re_pattern, example_text))\n",
    "\n",
    "ipsum_word_count"
   ]
  },
  {
   "cell_type": "markdown",
   "metadata": {},
   "source": [
    "3 Find in the text how many times the string `ipsum` (not the word!) appears."
   ]
  },
  {
   "cell_type": "code",
   "execution_count": 59,
   "metadata": {},
   "outputs": [
    {
     "data": {
      "text/plain": [
       "2"
      ]
     },
     "execution_count": 59,
     "metadata": {},
     "output_type": "execute_result"
    }
   ],
   "source": [
    "ipsum_pattern = r\"ipsum\"\n",
    "ipsum_count = len(re.findall(ipsum_pattern, example_text))\n",
    "\n",
    "ipsum_count"
   ]
  },
  {
   "cell_type": "markdown",
   "metadata": {},
   "source": [
    "4 Search the text for everything after the word `Excepteur` (Note: the word Excepteur should not be included in the output!)"
   ]
  },
  {
   "cell_type": "code",
   "execution_count": 106,
   "metadata": {},
   "outputs": [
    {
     "data": {
      "text/plain": [
       "[' sint occaecat cupidatat non proident, sunt in culpa qui officia deserunt mollit anim id est laborum. [192.168.1.254:80]']"
      ]
     },
     "execution_count": 106,
     "metadata": {},
     "output_type": "execute_result"
    }
   ],
   "source": [
    "# `?<=` = positive lookbehind, i.e. match the position that is preceded by the word 'Excepteur'\n",
    "# $ = end of string\n",
    "re_pattern = r\"(?<=Excepteur).*$\"\n",
    "everything_except_excepteur = re.findall(re_pattern, example_text)\n",
    "\n",
    "everything_except_excepteur"
   ]
  },
  {
   "cell_type": "markdown",
   "metadata": {},
   "source": [
    "5 Find all the words inside the brackets `()`."
   ]
  },
  {
   "cell_type": "code",
   "execution_count": 60,
   "metadata": {},
   "outputs": [
    {
     "data": {
      "text/plain": [
       "['(laboris)', '(aliquip)']"
      ]
     },
     "execution_count": 60,
     "metadata": {},
     "output_type": "execute_result"
    }
   ],
   "source": [
    "# . = any character\n",
    "# * = zero or more occurrences\n",
    "# ? = zero or one occurrences\n",
    "re_pattern = r\"\\(.*?\\)\"\n",
    "words_inside_brackets = re.findall(re_pattern, example_text)\n",
    "\n",
    "words_inside_brackets"
   ]
  },
  {
   "cell_type": "markdown",
   "metadata": {},
   "source": [
    "6 Choose all the words that end with `at` (include the word 'at' also!)."
   ]
  },
  {
   "cell_type": "code",
   "execution_count": 117,
   "metadata": {},
   "outputs": [
    {
     "data": {
      "text/plain": [
       "['consequat', 'fugiat', 'occaecat', 'cupidatat']"
      ]
     },
     "execution_count": 117,
     "metadata": {},
     "output_type": "execute_result"
    }
   ],
   "source": [
    "re_pattern = r\"\\b\\w*at\\b\"\n",
    "words_ending_in_at = re.findall(re_pattern, example_text)\n",
    "\n",
    "words_ending_in_at"
   ]
  },
  {
   "cell_type": "markdown",
   "metadata": {},
   "source": [
    "7 Find words that contain the string `olo` but do not start or end with that string."
   ]
  },
  {
   "cell_type": "code",
   "execution_count": 118,
   "metadata": {},
   "outputs": [
    {
     "data": {
      "text/plain": [
       "['dolorolo', 'dolore', 'dolor', 'dolore']"
      ]
     },
     "execution_count": 118,
     "metadata": {},
     "output_type": "execute_result"
    }
   ],
   "source": [
    "re_pattern = r\"\\w*olo\\w*\"\n",
    "words_containing_olo = re.findall(re_pattern, example_text)\n",
    "\n",
    "words_containing_olo"
   ]
  },
  {
   "cell_type": "markdown",
   "metadata": {},
   "source": [
    "8 Next find all IP addresses with the following form: `ip-address:port-number` (eg 192.168.1.1:8080) without static search or `r'\\[.*?\\]'`/similar syntax which returns all the content inside the square brackets."
   ]
  },
  {
   "cell_type": "code",
   "execution_count": 96,
   "metadata": {},
   "outputs": [
    {
     "data": {
      "text/plain": [
       "['192.168.1.1:8080', '192.168.1.254:80']"
      ]
     },
     "execution_count": 96,
     "metadata": {},
     "output_type": "execute_result"
    }
   ],
   "source": [
    "re_pattern = r\"\\d{1,3}.\\d{1,3}.\\d{1,3}.\\d{1,3}:\\d{1,4}\"\n",
    "ip_addresses = re.findall(re_pattern, example_text)\n",
    "\n",
    "ip_addresses"
   ]
  }
 ],
 "metadata": {
  "kernelspec": {
   "display_name": "Python 3",
   "language": "python",
   "name": "python3"
  },
  "language_info": {
   "codemirror_mode": {
    "name": "ipython",
    "version": 3
   },
   "file_extension": ".py",
   "mimetype": "text/x-python",
   "name": "python",
   "nbconvert_exporter": "python",
   "pygments_lexer": "ipython3",
   "version": "3.11.7"
  }
 },
 "nbformat": 4,
 "nbformat_minor": 2
}
