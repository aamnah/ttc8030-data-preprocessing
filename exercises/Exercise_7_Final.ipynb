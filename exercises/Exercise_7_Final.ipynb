{
 "cells": [
  {
   "cell_type": "markdown",
   "metadata": {},
   "source": [
    "## Exercise 7 - Final\n",
    "\n",
    "This final exercise combines different parts from the previous exercises."
   ]
  },
  {
   "cell_type": "markdown",
   "metadata": {},
   "source": [
    "### Section 1"
   ]
  },
  {
   "cell_type": "markdown",
   "metadata": {},
   "source": [
    "1 Search Digitraffic's REST interface service (in JSON format) for active trains with the terminal address `/live-trains` from Helsinki station with the following search parameters:\n",
    "* arrived_trains=10\n",
    "* departed_trains=10\n",
    "* include_nonstopping=False"
   ]
  },
  {
   "cell_type": "code",
   "execution_count": 1,
   "metadata": {},
   "outputs": [
    {
     "data": {
      "text/plain": [
       "200"
      ]
     },
     "execution_count": 1,
     "metadata": {},
     "output_type": "execute_result"
    }
   ],
   "source": [
    "import requests\n",
    "\n",
    "station = 'HKI' # Helsinki \n",
    "\n",
    "arrived_trains = 10\n",
    "departed_trains = 10\n",
    "include_nonstopping = False\n",
    "\n",
    "params = {\n",
    "    'arrived_trains': arrived_trains,\n",
    "    'departed_trains': departed_trains,\n",
    "    'include_nonstopping': include_nonstopping\n",
    "}\n",
    "\n",
    "url = f\"https://rata.digitraffic.fi/api/v1/live-trains/station/{station}/\"\n",
    "\n",
    "# https://rata.digitraffic.fi/api/v1/live-trains/station/HKI?version=0&arrived_trains=10&arriving_trains=5&departed_trains=10&departing_trains=5&include_nonstopping=false\n",
    "req = requests.get(url, params)\n",
    "req.status_code"
   ]
  },
  {
   "cell_type": "markdown",
   "metadata": {},
   "source": [
    "2 Read the data into the Pandas dataframe without editing, so that the column headings are as follows:\n",
    "\n",
    " `cancelled`,\n",
    " `commuterLineID`,\n",
    " `departureDate`,\n",
    " `operatorShortCode`,\n",
    " `operatorUICCode`,\n",
    " `runningCurrently`,\n",
    " `timeTableRows`,\n",
    " `timetableAcceptanceDate`,\n",
    " `timetableType`,\n",
    " `trainCategory`,\n",
    " `trainNumber`,\n",
    " `trainType`,\n",
    " `version`"
   ]
  },
  {
   "cell_type": "code",
   "execution_count": 2,
   "metadata": {},
   "outputs": [
    {
     "data": {
      "text/html": [
       "<div>\n",
       "<style scoped>\n",
       "    .dataframe tbody tr th:only-of-type {\n",
       "        vertical-align: middle;\n",
       "    }\n",
       "\n",
       "    .dataframe tbody tr th {\n",
       "        vertical-align: top;\n",
       "    }\n",
       "\n",
       "    .dataframe thead th {\n",
       "        text-align: right;\n",
       "    }\n",
       "</style>\n",
       "<table border=\"1\" class=\"dataframe\">\n",
       "  <thead>\n",
       "    <tr style=\"text-align: right;\">\n",
       "      <th></th>\n",
       "      <th>trainNumber</th>\n",
       "      <th>departureDate</th>\n",
       "      <th>operatorUICCode</th>\n",
       "      <th>operatorShortCode</th>\n",
       "      <th>trainType</th>\n",
       "      <th>trainCategory</th>\n",
       "      <th>commuterLineID</th>\n",
       "      <th>runningCurrently</th>\n",
       "      <th>cancelled</th>\n",
       "      <th>version</th>\n",
       "      <th>timetableType</th>\n",
       "      <th>timetableAcceptanceDate</th>\n",
       "      <th>timeTableRows</th>\n",
       "    </tr>\n",
       "  </thead>\n",
       "  <tbody>\n",
       "    <tr>\n",
       "      <th>0</th>\n",
       "      <td>64</td>\n",
       "      <td>2024-02-19</td>\n",
       "      <td>10</td>\n",
       "      <td>vr</td>\n",
       "      <td>S</td>\n",
       "      <td>Long-distance</td>\n",
       "      <td></td>\n",
       "      <td>False</td>\n",
       "      <td>False</td>\n",
       "      <td>287675245715</td>\n",
       "      <td>REGULAR</td>\n",
       "      <td>2023-12-14T06:21:07.000Z</td>\n",
       "      <td>[{'stationShortCode': 'KAJ', 'stationUICCode':...</td>\n",
       "    </tr>\n",
       "    <tr>\n",
       "      <th>1</th>\n",
       "      <td>142</td>\n",
       "      <td>2024-02-19</td>\n",
       "      <td>10</td>\n",
       "      <td>vr</td>\n",
       "      <td>IC</td>\n",
       "      <td>Long-distance</td>\n",
       "      <td></td>\n",
       "      <td>False</td>\n",
       "      <td>False</td>\n",
       "      <td>287675323095</td>\n",
       "      <td>REGULAR</td>\n",
       "      <td>2023-11-02T05:57:22.000Z</td>\n",
       "      <td>[{'stationShortCode': 'KUO', 'stationUICCode':...</td>\n",
       "    </tr>\n",
       "    <tr>\n",
       "      <th>2</th>\n",
       "      <td>145</td>\n",
       "      <td>2024-02-19</td>\n",
       "      <td>10</td>\n",
       "      <td>vr</td>\n",
       "      <td>IC</td>\n",
       "      <td>Long-distance</td>\n",
       "      <td></td>\n",
       "      <td>False</td>\n",
       "      <td>False</td>\n",
       "      <td>287675292043</td>\n",
       "      <td>REGULAR</td>\n",
       "      <td>2023-11-02T05:57:22.000Z</td>\n",
       "      <td>[{'stationShortCode': 'HKI', 'stationUICCode':...</td>\n",
       "    </tr>\n",
       "    <tr>\n",
       "      <th>3</th>\n",
       "      <td>8094</td>\n",
       "      <td>2024-02-19</td>\n",
       "      <td>10</td>\n",
       "      <td>vr</td>\n",
       "      <td>HL</td>\n",
       "      <td>Commuter</td>\n",
       "      <td>A</td>\n",
       "      <td>False</td>\n",
       "      <td>False</td>\n",
       "      <td>287675236834</td>\n",
       "      <td>REGULAR</td>\n",
       "      <td>2023-11-02T05:57:22.000Z</td>\n",
       "      <td>[{'stationShortCode': 'LPV', 'stationUICCode':...</td>\n",
       "    </tr>\n",
       "    <tr>\n",
       "      <th>4</th>\n",
       "      <td>8098</td>\n",
       "      <td>2024-02-19</td>\n",
       "      <td>10</td>\n",
       "      <td>vr</td>\n",
       "      <td>HL</td>\n",
       "      <td>Commuter</td>\n",
       "      <td>A</td>\n",
       "      <td>True</td>\n",
       "      <td>False</td>\n",
       "      <td>287675343979</td>\n",
       "      <td>REGULAR</td>\n",
       "      <td>2023-11-02T05:57:22.000Z</td>\n",
       "      <td>[{'stationShortCode': 'LPV', 'stationUICCode':...</td>\n",
       "    </tr>\n",
       "  </tbody>\n",
       "</table>\n",
       "</div>"
      ],
      "text/plain": [
       "   trainNumber departureDate  operatorUICCode operatorShortCode trainType  \\\n",
       "0           64    2024-02-19               10                vr         S   \n",
       "1          142    2024-02-19               10                vr        IC   \n",
       "2          145    2024-02-19               10                vr        IC   \n",
       "3         8094    2024-02-19               10                vr        HL   \n",
       "4         8098    2024-02-19               10                vr        HL   \n",
       "\n",
       "   trainCategory commuterLineID  runningCurrently  cancelled       version  \\\n",
       "0  Long-distance                            False      False  287675245715   \n",
       "1  Long-distance                            False      False  287675323095   \n",
       "2  Long-distance                            False      False  287675292043   \n",
       "3       Commuter              A             False      False  287675236834   \n",
       "4       Commuter              A              True      False  287675343979   \n",
       "\n",
       "  timetableType   timetableAcceptanceDate  \\\n",
       "0       REGULAR  2023-12-14T06:21:07.000Z   \n",
       "1       REGULAR  2023-11-02T05:57:22.000Z   \n",
       "2       REGULAR  2023-11-02T05:57:22.000Z   \n",
       "3       REGULAR  2023-11-02T05:57:22.000Z   \n",
       "4       REGULAR  2023-11-02T05:57:22.000Z   \n",
       "\n",
       "                                       timeTableRows  \n",
       "0  [{'stationShortCode': 'KAJ', 'stationUICCode':...  \n",
       "1  [{'stationShortCode': 'KUO', 'stationUICCode':...  \n",
       "2  [{'stationShortCode': 'HKI', 'stationUICCode':...  \n",
       "3  [{'stationShortCode': 'LPV', 'stationUICCode':...  \n",
       "4  [{'stationShortCode': 'LPV', 'stationUICCode':...  "
      ]
     },
     "execution_count": 2,
     "metadata": {},
     "output_type": "execute_result"
    }
   ],
   "source": [
    "import pandas as pd\n",
    "df = pd.json_normalize(req.json())\n",
    "\n",
    "df.head()"
   ]
  },
  {
   "cell_type": "markdown",
   "metadata": {},
   "source": [
    "3 Delete all other columns except `timeTableRows` and `trainNumber`."
   ]
  },
  {
   "cell_type": "code",
   "execution_count": 3,
   "metadata": {},
   "outputs": [
    {
     "data": {
      "text/html": [
       "<div>\n",
       "<style scoped>\n",
       "    .dataframe tbody tr th:only-of-type {\n",
       "        vertical-align: middle;\n",
       "    }\n",
       "\n",
       "    .dataframe tbody tr th {\n",
       "        vertical-align: top;\n",
       "    }\n",
       "\n",
       "    .dataframe thead th {\n",
       "        text-align: right;\n",
       "    }\n",
       "</style>\n",
       "<table border=\"1\" class=\"dataframe\">\n",
       "  <thead>\n",
       "    <tr style=\"text-align: right;\">\n",
       "      <th></th>\n",
       "      <th>timeTableRows</th>\n",
       "      <th>trainNumber</th>\n",
       "    </tr>\n",
       "  </thead>\n",
       "  <tbody>\n",
       "    <tr>\n",
       "      <th>0</th>\n",
       "      <td>[{'stationShortCode': 'KAJ', 'stationUICCode':...</td>\n",
       "      <td>64</td>\n",
       "    </tr>\n",
       "    <tr>\n",
       "      <th>1</th>\n",
       "      <td>[{'stationShortCode': 'KUO', 'stationUICCode':...</td>\n",
       "      <td>142</td>\n",
       "    </tr>\n",
       "    <tr>\n",
       "      <th>2</th>\n",
       "      <td>[{'stationShortCode': 'HKI', 'stationUICCode':...</td>\n",
       "      <td>145</td>\n",
       "    </tr>\n",
       "    <tr>\n",
       "      <th>3</th>\n",
       "      <td>[{'stationShortCode': 'LPV', 'stationUICCode':...</td>\n",
       "      <td>8094</td>\n",
       "    </tr>\n",
       "    <tr>\n",
       "      <th>4</th>\n",
       "      <td>[{'stationShortCode': 'LPV', 'stationUICCode':...</td>\n",
       "      <td>8098</td>\n",
       "    </tr>\n",
       "  </tbody>\n",
       "</table>\n",
       "</div>"
      ],
      "text/plain": [
       "                                       timeTableRows  trainNumber\n",
       "0  [{'stationShortCode': 'KAJ', 'stationUICCode':...           64\n",
       "1  [{'stationShortCode': 'KUO', 'stationUICCode':...          142\n",
       "2  [{'stationShortCode': 'HKI', 'stationUICCode':...          145\n",
       "3  [{'stationShortCode': 'LPV', 'stationUICCode':...         8094\n",
       "4  [{'stationShortCode': 'LPV', 'stationUICCode':...         8098"
      ]
     },
     "execution_count": 3,
     "metadata": {},
     "output_type": "execute_result"
    }
   ],
   "source": [
    "df = df.loc[:, ['timeTableRows', 'trainNumber']]\n",
    "df.head()"
   ]
  },
  {
   "cell_type": "markdown",
   "metadata": {},
   "source": [
    "4 After this, extract the values ​​of the `timeTableRows` column from each train separately (the column value for each train contains several JSON objects) and add `trainNumber`, which identifies the train data."
   ]
  },
  {
   "cell_type": "code",
   "execution_count": 4,
   "metadata": {},
   "outputs": [],
   "source": [
    "nested_df = pd.json_normalize(df.iloc[0,0])\n",
    "nested_df\n",
    "\n",
    "new_dataframe = pd.DataFrame()\n",
    "\n",
    "# new_df_columns = nested_df.columns\n",
    "# new_df_columns"
   ]
  },
  {
   "cell_type": "markdown",
   "metadata": {},
   "source": []
  },
  {
   "cell_type": "markdown",
   "metadata": {},
   "source": [
    "5 Then drop the following columns from the data: `causes`, `differenceInMinutes` and `commercialStop`."
   ]
  },
  {
   "cell_type": "code",
   "execution_count": 5,
   "metadata": {},
   "outputs": [
    {
     "ename": "KeyError",
     "evalue": "\"['causes', 'differenceInMinutes', 'commercialStop'] not found in axis\"",
     "output_type": "error",
     "traceback": [
      "\u001b[1;31m---------------------------------------------------------------------------\u001b[0m",
      "\u001b[1;31mKeyError\u001b[0m                                  Traceback (most recent call last)",
      "Cell \u001b[1;32mIn[5], line 1\u001b[0m\n\u001b[1;32m----> 1\u001b[0m df \u001b[38;5;241m=\u001b[39m df\u001b[38;5;241m.\u001b[39mdrop([\u001b[38;5;124m'\u001b[39m\u001b[38;5;124mcauses\u001b[39m\u001b[38;5;124m'\u001b[39m, \u001b[38;5;124m'\u001b[39m\u001b[38;5;124mdifferenceInMinutes\u001b[39m\u001b[38;5;124m'\u001b[39m, \u001b[38;5;124m'\u001b[39m\u001b[38;5;124mcommercialStop\u001b[39m\u001b[38;5;124m'\u001b[39m], axis\u001b[38;5;241m=\u001b[39m\u001b[38;5;241m1\u001b[39m, inplace\u001b[38;5;241m=\u001b[39m\u001b[38;5;28;01mTrue\u001b[39;00m)\n",
      "File \u001b[1;32mc:\\ProgramData\\anaconda3\\Lib\\site-packages\\pandas\\core\\frame.py:5258\u001b[0m, in \u001b[0;36mDataFrame.drop\u001b[1;34m(self, labels, axis, index, columns, level, inplace, errors)\u001b[0m\n\u001b[0;32m   5110\u001b[0m \u001b[38;5;28;01mdef\u001b[39;00m \u001b[38;5;21mdrop\u001b[39m(\n\u001b[0;32m   5111\u001b[0m     \u001b[38;5;28mself\u001b[39m,\n\u001b[0;32m   5112\u001b[0m     labels: IndexLabel \u001b[38;5;241m=\u001b[39m \u001b[38;5;28;01mNone\u001b[39;00m,\n\u001b[1;32m   (...)\u001b[0m\n\u001b[0;32m   5119\u001b[0m     errors: IgnoreRaise \u001b[38;5;241m=\u001b[39m \u001b[38;5;124m\"\u001b[39m\u001b[38;5;124mraise\u001b[39m\u001b[38;5;124m\"\u001b[39m,\n\u001b[0;32m   5120\u001b[0m ) \u001b[38;5;241m-\u001b[39m\u001b[38;5;241m>\u001b[39m DataFrame \u001b[38;5;241m|\u001b[39m \u001b[38;5;28;01mNone\u001b[39;00m:\n\u001b[0;32m   5121\u001b[0m \u001b[38;5;250m    \u001b[39m\u001b[38;5;124;03m\"\"\"\u001b[39;00m\n\u001b[0;32m   5122\u001b[0m \u001b[38;5;124;03m    Drop specified labels from rows or columns.\u001b[39;00m\n\u001b[0;32m   5123\u001b[0m \n\u001b[1;32m   (...)\u001b[0m\n\u001b[0;32m   5256\u001b[0m \u001b[38;5;124;03m            weight  1.0     0.8\u001b[39;00m\n\u001b[0;32m   5257\u001b[0m \u001b[38;5;124;03m    \"\"\"\u001b[39;00m\n\u001b[1;32m-> 5258\u001b[0m     \u001b[38;5;28;01mreturn\u001b[39;00m \u001b[38;5;28msuper\u001b[39m()\u001b[38;5;241m.\u001b[39mdrop(\n\u001b[0;32m   5259\u001b[0m         labels\u001b[38;5;241m=\u001b[39mlabels,\n\u001b[0;32m   5260\u001b[0m         axis\u001b[38;5;241m=\u001b[39maxis,\n\u001b[0;32m   5261\u001b[0m         index\u001b[38;5;241m=\u001b[39mindex,\n\u001b[0;32m   5262\u001b[0m         columns\u001b[38;5;241m=\u001b[39mcolumns,\n\u001b[0;32m   5263\u001b[0m         level\u001b[38;5;241m=\u001b[39mlevel,\n\u001b[0;32m   5264\u001b[0m         inplace\u001b[38;5;241m=\u001b[39minplace,\n\u001b[0;32m   5265\u001b[0m         errors\u001b[38;5;241m=\u001b[39merrors,\n\u001b[0;32m   5266\u001b[0m     )\n",
      "File \u001b[1;32mc:\\ProgramData\\anaconda3\\Lib\\site-packages\\pandas\\core\\generic.py:4549\u001b[0m, in \u001b[0;36mNDFrame.drop\u001b[1;34m(self, labels, axis, index, columns, level, inplace, errors)\u001b[0m\n\u001b[0;32m   4547\u001b[0m \u001b[38;5;28;01mfor\u001b[39;00m axis, labels \u001b[38;5;129;01min\u001b[39;00m axes\u001b[38;5;241m.\u001b[39mitems():\n\u001b[0;32m   4548\u001b[0m     \u001b[38;5;28;01mif\u001b[39;00m labels \u001b[38;5;129;01mis\u001b[39;00m \u001b[38;5;129;01mnot\u001b[39;00m \u001b[38;5;28;01mNone\u001b[39;00m:\n\u001b[1;32m-> 4549\u001b[0m         obj \u001b[38;5;241m=\u001b[39m obj\u001b[38;5;241m.\u001b[39m_drop_axis(labels, axis, level\u001b[38;5;241m=\u001b[39mlevel, errors\u001b[38;5;241m=\u001b[39merrors)\n\u001b[0;32m   4551\u001b[0m \u001b[38;5;28;01mif\u001b[39;00m inplace:\n\u001b[0;32m   4552\u001b[0m     \u001b[38;5;28mself\u001b[39m\u001b[38;5;241m.\u001b[39m_update_inplace(obj)\n",
      "File \u001b[1;32mc:\\ProgramData\\anaconda3\\Lib\\site-packages\\pandas\\core\\generic.py:4591\u001b[0m, in \u001b[0;36mNDFrame._drop_axis\u001b[1;34m(self, labels, axis, level, errors, only_slice)\u001b[0m\n\u001b[0;32m   4589\u001b[0m         new_axis \u001b[38;5;241m=\u001b[39m axis\u001b[38;5;241m.\u001b[39mdrop(labels, level\u001b[38;5;241m=\u001b[39mlevel, errors\u001b[38;5;241m=\u001b[39merrors)\n\u001b[0;32m   4590\u001b[0m     \u001b[38;5;28;01melse\u001b[39;00m:\n\u001b[1;32m-> 4591\u001b[0m         new_axis \u001b[38;5;241m=\u001b[39m axis\u001b[38;5;241m.\u001b[39mdrop(labels, errors\u001b[38;5;241m=\u001b[39merrors)\n\u001b[0;32m   4592\u001b[0m     indexer \u001b[38;5;241m=\u001b[39m axis\u001b[38;5;241m.\u001b[39mget_indexer(new_axis)\n\u001b[0;32m   4594\u001b[0m \u001b[38;5;66;03m# Case for non-unique axis\u001b[39;00m\n\u001b[0;32m   4595\u001b[0m \u001b[38;5;28;01melse\u001b[39;00m:\n",
      "File \u001b[1;32mc:\\ProgramData\\anaconda3\\Lib\\site-packages\\pandas\\core\\indexes\\base.py:6699\u001b[0m, in \u001b[0;36mIndex.drop\u001b[1;34m(self, labels, errors)\u001b[0m\n\u001b[0;32m   6697\u001b[0m \u001b[38;5;28;01mif\u001b[39;00m mask\u001b[38;5;241m.\u001b[39many():\n\u001b[0;32m   6698\u001b[0m     \u001b[38;5;28;01mif\u001b[39;00m errors \u001b[38;5;241m!=\u001b[39m \u001b[38;5;124m\"\u001b[39m\u001b[38;5;124mignore\u001b[39m\u001b[38;5;124m\"\u001b[39m:\n\u001b[1;32m-> 6699\u001b[0m         \u001b[38;5;28;01mraise\u001b[39;00m \u001b[38;5;167;01mKeyError\u001b[39;00m(\u001b[38;5;124mf\u001b[39m\u001b[38;5;124m\"\u001b[39m\u001b[38;5;132;01m{\u001b[39;00m\u001b[38;5;28mlist\u001b[39m(labels[mask])\u001b[38;5;132;01m}\u001b[39;00m\u001b[38;5;124m not found in axis\u001b[39m\u001b[38;5;124m\"\u001b[39m)\n\u001b[0;32m   6700\u001b[0m     indexer \u001b[38;5;241m=\u001b[39m indexer[\u001b[38;5;241m~\u001b[39mmask]\n\u001b[0;32m   6701\u001b[0m \u001b[38;5;28;01mreturn\u001b[39;00m \u001b[38;5;28mself\u001b[39m\u001b[38;5;241m.\u001b[39mdelete(indexer)\n",
      "\u001b[1;31mKeyError\u001b[0m: \"['causes', 'differenceInMinutes', 'commercialStop'] not found in axis\""
     ]
    }
   ],
   "source": [
    "df = df.drop(['causes', 'differenceInMinutes', 'commercialStop'], axis=1, inplace=True)"
   ]
  },
  {
   "cell_type": "markdown",
   "metadata": {},
   "source": [
    "6 Fill in the missing values ​​of the `actualTime` column in each row with the values of the `scheduledTime` column."
   ]
  },
  {
   "cell_type": "code",
   "execution_count": null,
   "metadata": {},
   "outputs": [],
   "source": [
    "#"
   ]
  },
  {
   "cell_type": "markdown",
   "metadata": {},
   "source": [
    "### Section 2\n",
    "\n",
    "7 Extract the cell values ​​of the `table` element of the `data.html` file using the regex syntax and connect them to the dataframe created in step 1. **Note**: only regex should be used in the task (E.g. the use of Pandas' read_html() method is prohibited)!"
   ]
  },
  {
   "cell_type": "code",
   "execution_count": null,
   "metadata": {},
   "outputs": [],
   "source": [
    "import re\n",
    "tr_pattern = r\"<tr[^>]*>(.*?)<\\/tr>\" # table rows, ignore attributes\n",
    "th_pattern = r\"<th>(.*?)<\\/th>\" # dataframe columns\n",
    "td_pattern = r\"<td>(.*?)<\\/td>\" # dataframe rows\n",
    "\n",
    "with open(\"./data.html\") as file:\n",
    "    html_data = file.read()\n",
    "\n",
    "columns = re.findall(th_pattern, html_data)\n",
    "\n",
    "# rows = \n",
    "# table_data = []\n",
    "\n",
    "# table_df = pd.DataFrame\n",
    "\n",
    "# columns\n",
    "html_data"
   ]
  },
  {
   "cell_type": "markdown",
   "metadata": {},
   "source": [
    "### Section 3\n",
    "\n",
    "8 Make a SQLite database and insert the dataframe obtained as a result of step 2 to the database."
   ]
  },
  {
   "cell_type": "code",
   "execution_count": null,
   "metadata": {
    "tags": []
   },
   "outputs": [],
   "source": [
    "import sqlite3\n",
    "\n",
    "# Create a database connection\n",
    "db_connection = sqlite3.connect('final.db')\n",
    "\n",
    "# Save dataframe to database\n",
    "df.to_sql(name='live_trains', con=db_connection, if_exists='fail', index=False)\n",
    "\n",
    "# Close the connect\n",
    "db_connection.close()"
   ]
  },
  {
   "cell_type": "code",
   "execution_count": null,
   "metadata": {},
   "outputs": [],
   "source": []
  }
 ],
 "metadata": {
  "kernelspec": {
   "display_name": "Python 3 (ipykernel)",
   "language": "python",
   "name": "python3"
  },
  "language_info": {
   "codemirror_mode": {
    "name": "ipython",
    "version": 3
   },
   "file_extension": ".py",
   "mimetype": "text/x-python",
   "name": "python",
   "nbconvert_exporter": "python",
   "pygments_lexer": "ipython3",
   "version": "3.11.5"
  }
 },
 "nbformat": 4,
 "nbformat_minor": 4
}
