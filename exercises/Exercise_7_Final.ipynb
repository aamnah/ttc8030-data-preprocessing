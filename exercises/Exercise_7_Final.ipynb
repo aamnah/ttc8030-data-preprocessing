{
 "cells": [
  {
   "cell_type": "markdown",
   "metadata": {},
   "source": [
    "## Exercise 7 - Final\n",
    "\n",
    "This final exercise combines different parts from the previous exercises."
   ]
  },
  {
   "cell_type": "markdown",
   "metadata": {},
   "source": [
    "### Section 1"
   ]
  },
  {
   "cell_type": "markdown",
   "metadata": {},
   "source": [
    "1 Search Digitraffic's REST interface service (in JSON format) for active trains with the terminal address `/live-trains` from Helsinki station with the following search parameters:\n",
    "* arrived_trains=10\n",
    "* departed_trains=10\n",
    "* include_nonstopping=False"
   ]
  },
  {
   "cell_type": "code",
   "execution_count": 80,
   "metadata": {},
   "outputs": [
    {
     "data": {
      "text/plain": [
       "200"
      ]
     },
     "execution_count": 80,
     "metadata": {},
     "output_type": "execute_result"
    }
   ],
   "source": [
    "import requests\n",
    "\n",
    "station = 'HKI' # Helsinki \n",
    "\n",
    "arrived_trains = 10\n",
    "departed_trains = 10\n",
    "include_nonstopping = False\n",
    "\n",
    "params = {\n",
    "    'arrived_trains': arrived_trains,\n",
    "    'departed_trains': departed_trains,\n",
    "    'include_nonstopping': include_nonstopping\n",
    "}\n",
    "\n",
    "url = f\"https://rata.digitraffic.fi/api/v1/live-trains/station/{station}/\"\n",
    "\n",
    "# https://rata.digitraffic.fi/api/v1/live-trains/station/HKI?version=0&arrived_trains=10&arriving_trains=5&departed_trains=10&departing_trains=5&include_nonstopping=false\n",
    "req = requests.get(url, params)\n",
    "req.status_code"
   ]
  },
  {
   "cell_type": "markdown",
   "metadata": {},
   "source": [
    "2 Read the data into the Pandas dataframe without editing, so that the column headings are as follows:\n",
    "\n",
    " `cancelled`,\n",
    " `commuterLineID`,\n",
    " `departureDate`,\n",
    " `operatorShortCode`,\n",
    " `operatorUICCode`,\n",
    " `runningCurrently`,\n",
    " `timeTableRows`,\n",
    " `timetableAcceptanceDate`,\n",
    " `timetableType`,\n",
    " `trainCategory`,\n",
    " `trainNumber`,\n",
    " `trainType`,\n",
    " `version`"
   ]
  },
  {
   "cell_type": "code",
   "execution_count": 81,
   "metadata": {},
   "outputs": [
    {
     "data": {
      "text/html": [
       "<div>\n",
       "<style scoped>\n",
       "    .dataframe tbody tr th:only-of-type {\n",
       "        vertical-align: middle;\n",
       "    }\n",
       "\n",
       "    .dataframe tbody tr th {\n",
       "        vertical-align: top;\n",
       "    }\n",
       "\n",
       "    .dataframe thead th {\n",
       "        text-align: right;\n",
       "    }\n",
       "</style>\n",
       "<table border=\"1\" class=\"dataframe\">\n",
       "  <thead>\n",
       "    <tr style=\"text-align: right;\">\n",
       "      <th></th>\n",
       "      <th>trainNumber</th>\n",
       "      <th>departureDate</th>\n",
       "      <th>operatorUICCode</th>\n",
       "      <th>operatorShortCode</th>\n",
       "      <th>trainType</th>\n",
       "      <th>trainCategory</th>\n",
       "      <th>commuterLineID</th>\n",
       "      <th>runningCurrently</th>\n",
       "      <th>cancelled</th>\n",
       "      <th>version</th>\n",
       "      <th>timetableType</th>\n",
       "      <th>timetableAcceptanceDate</th>\n",
       "      <th>timeTableRows</th>\n",
       "    </tr>\n",
       "  </thead>\n",
       "  <tbody>\n",
       "    <tr>\n",
       "      <th>0</th>\n",
       "      <td>6</td>\n",
       "      <td>2024-02-19</td>\n",
       "      <td>10</td>\n",
       "      <td>vr</td>\n",
       "      <td>IC</td>\n",
       "      <td>Long-distance</td>\n",
       "      <td></td>\n",
       "      <td>False</td>\n",
       "      <td>False</td>\n",
       "      <td>287675616958</td>\n",
       "      <td>REGULAR</td>\n",
       "      <td>2023-12-14T06:21:07.000Z</td>\n",
       "      <td>[{'stationShortCode': 'JNS', 'stationUICCode':...</td>\n",
       "    </tr>\n",
       "    <tr>\n",
       "      <th>1</th>\n",
       "      <td>22</td>\n",
       "      <td>2024-02-19</td>\n",
       "      <td>10</td>\n",
       "      <td>vr</td>\n",
       "      <td>IC</td>\n",
       "      <td>Long-distance</td>\n",
       "      <td></td>\n",
       "      <td>True</td>\n",
       "      <td>False</td>\n",
       "      <td>287675613459</td>\n",
       "      <td>REGULAR</td>\n",
       "      <td>2023-12-14T06:21:07.000Z</td>\n",
       "      <td>[{'stationShortCode': 'ROI', 'stationUICCode':...</td>\n",
       "    </tr>\n",
       "    <tr>\n",
       "      <th>2</th>\n",
       "      <td>954</td>\n",
       "      <td>2024-02-19</td>\n",
       "      <td>10</td>\n",
       "      <td>vr</td>\n",
       "      <td>S</td>\n",
       "      <td>Long-distance</td>\n",
       "      <td></td>\n",
       "      <td>False</td>\n",
       "      <td>False</td>\n",
       "      <td>287675498714</td>\n",
       "      <td>REGULAR</td>\n",
       "      <td>2023-12-14T06:21:07.000Z</td>\n",
       "      <td>[{'stationShortCode': 'KUT', 'stationUICCode':...</td>\n",
       "    </tr>\n",
       "    <tr>\n",
       "      <th>3</th>\n",
       "      <td>955</td>\n",
       "      <td>2024-02-19</td>\n",
       "      <td>10</td>\n",
       "      <td>vr</td>\n",
       "      <td>IC</td>\n",
       "      <td>Long-distance</td>\n",
       "      <td></td>\n",
       "      <td>True</td>\n",
       "      <td>False</td>\n",
       "      <td>287675605426</td>\n",
       "      <td>REGULAR</td>\n",
       "      <td>2023-12-14T06:21:07.000Z</td>\n",
       "      <td>[{'stationShortCode': 'HKI', 'stationUICCode':...</td>\n",
       "    </tr>\n",
       "    <tr>\n",
       "      <th>4</th>\n",
       "      <td>8106</td>\n",
       "      <td>2024-02-19</td>\n",
       "      <td>10</td>\n",
       "      <td>vr</td>\n",
       "      <td>HL</td>\n",
       "      <td>Commuter</td>\n",
       "      <td>A</td>\n",
       "      <td>False</td>\n",
       "      <td>False</td>\n",
       "      <td>287675614347</td>\n",
       "      <td>REGULAR</td>\n",
       "      <td>2023-11-02T05:57:22.000Z</td>\n",
       "      <td>[{'stationShortCode': 'LPV', 'stationUICCode':...</td>\n",
       "    </tr>\n",
       "  </tbody>\n",
       "</table>\n",
       "</div>"
      ],
      "text/plain": [
       "   trainNumber departureDate  operatorUICCode operatorShortCode trainType  \\\n",
       "0            6    2024-02-19               10                vr        IC   \n",
       "1           22    2024-02-19               10                vr        IC   \n",
       "2          954    2024-02-19               10                vr         S   \n",
       "3          955    2024-02-19               10                vr        IC   \n",
       "4         8106    2024-02-19               10                vr        HL   \n",
       "\n",
       "   trainCategory commuterLineID  runningCurrently  cancelled       version  \\\n",
       "0  Long-distance                            False      False  287675616958   \n",
       "1  Long-distance                             True      False  287675613459   \n",
       "2  Long-distance                            False      False  287675498714   \n",
       "3  Long-distance                             True      False  287675605426   \n",
       "4       Commuter              A             False      False  287675614347   \n",
       "\n",
       "  timetableType   timetableAcceptanceDate  \\\n",
       "0       REGULAR  2023-12-14T06:21:07.000Z   \n",
       "1       REGULAR  2023-12-14T06:21:07.000Z   \n",
       "2       REGULAR  2023-12-14T06:21:07.000Z   \n",
       "3       REGULAR  2023-12-14T06:21:07.000Z   \n",
       "4       REGULAR  2023-11-02T05:57:22.000Z   \n",
       "\n",
       "                                       timeTableRows  \n",
       "0  [{'stationShortCode': 'JNS', 'stationUICCode':...  \n",
       "1  [{'stationShortCode': 'ROI', 'stationUICCode':...  \n",
       "2  [{'stationShortCode': 'KUT', 'stationUICCode':...  \n",
       "3  [{'stationShortCode': 'HKI', 'stationUICCode':...  \n",
       "4  [{'stationShortCode': 'LPV', 'stationUICCode':...  "
      ]
     },
     "execution_count": 81,
     "metadata": {},
     "output_type": "execute_result"
    }
   ],
   "source": [
    "import pandas as pd\n",
    "df = pd.json_normalize(req.json())\n",
    "\n",
    "df.head()"
   ]
  },
  {
   "cell_type": "markdown",
   "metadata": {},
   "source": [
    "3 Delete all other columns except `timeTableRows` and `trainNumber`."
   ]
  },
  {
   "cell_type": "code",
   "execution_count": 82,
   "metadata": {},
   "outputs": [
    {
     "data": {
      "text/html": [
       "<div>\n",
       "<style scoped>\n",
       "    .dataframe tbody tr th:only-of-type {\n",
       "        vertical-align: middle;\n",
       "    }\n",
       "\n",
       "    .dataframe tbody tr th {\n",
       "        vertical-align: top;\n",
       "    }\n",
       "\n",
       "    .dataframe thead th {\n",
       "        text-align: right;\n",
       "    }\n",
       "</style>\n",
       "<table border=\"1\" class=\"dataframe\">\n",
       "  <thead>\n",
       "    <tr style=\"text-align: right;\">\n",
       "      <th></th>\n",
       "      <th>timeTableRows</th>\n",
       "      <th>trainNumber</th>\n",
       "    </tr>\n",
       "  </thead>\n",
       "  <tbody>\n",
       "    <tr>\n",
       "      <th>0</th>\n",
       "      <td>[{'stationShortCode': 'JNS', 'stationUICCode':...</td>\n",
       "      <td>6</td>\n",
       "    </tr>\n",
       "    <tr>\n",
       "      <th>1</th>\n",
       "      <td>[{'stationShortCode': 'ROI', 'stationUICCode':...</td>\n",
       "      <td>22</td>\n",
       "    </tr>\n",
       "    <tr>\n",
       "      <th>2</th>\n",
       "      <td>[{'stationShortCode': 'KUT', 'stationUICCode':...</td>\n",
       "      <td>954</td>\n",
       "    </tr>\n",
       "    <tr>\n",
       "      <th>3</th>\n",
       "      <td>[{'stationShortCode': 'HKI', 'stationUICCode':...</td>\n",
       "      <td>955</td>\n",
       "    </tr>\n",
       "    <tr>\n",
       "      <th>4</th>\n",
       "      <td>[{'stationShortCode': 'LPV', 'stationUICCode':...</td>\n",
       "      <td>8106</td>\n",
       "    </tr>\n",
       "  </tbody>\n",
       "</table>\n",
       "</div>"
      ],
      "text/plain": [
       "                                       timeTableRows  trainNumber\n",
       "0  [{'stationShortCode': 'JNS', 'stationUICCode':...            6\n",
       "1  [{'stationShortCode': 'ROI', 'stationUICCode':...           22\n",
       "2  [{'stationShortCode': 'KUT', 'stationUICCode':...          954\n",
       "3  [{'stationShortCode': 'HKI', 'stationUICCode':...          955\n",
       "4  [{'stationShortCode': 'LPV', 'stationUICCode':...         8106"
      ]
     },
     "execution_count": 82,
     "metadata": {},
     "output_type": "execute_result"
    }
   ],
   "source": [
    "df = df.loc[:, ['timeTableRows', 'trainNumber']]\n",
    "df.head()"
   ]
  },
  {
   "cell_type": "markdown",
   "metadata": {},
   "source": [
    "4 After this, extract the values ​​of the `timeTableRows` column from each train separately (the column value for each train contains several JSON objects) and add `trainNumber`, which identifies the train data."
   ]
  },
  {
   "cell_type": "code",
   "execution_count": 85,
   "metadata": {},
   "outputs": [
    {
     "data": {
      "text/html": [
       "<div>\n",
       "<style scoped>\n",
       "    .dataframe tbody tr th:only-of-type {\n",
       "        vertical-align: middle;\n",
       "    }\n",
       "\n",
       "    .dataframe tbody tr th {\n",
       "        vertical-align: top;\n",
       "    }\n",
       "\n",
       "    .dataframe thead th {\n",
       "        text-align: right;\n",
       "    }\n",
       "</style>\n",
       "<table border=\"1\" class=\"dataframe\">\n",
       "  <thead>\n",
       "    <tr style=\"text-align: right;\">\n",
       "      <th></th>\n",
       "      <th>trainNumber</th>\n",
       "      <th>stationShortCode</th>\n",
       "      <th>stationUICCode</th>\n",
       "      <th>countryCode</th>\n",
       "      <th>type</th>\n",
       "      <th>trainStopping</th>\n",
       "      <th>commercialStop</th>\n",
       "      <th>commercialTrack</th>\n",
       "      <th>cancelled</th>\n",
       "      <th>scheduledTime</th>\n",
       "      <th>actualTime</th>\n",
       "      <th>differenceInMinutes</th>\n",
       "      <th>causes</th>\n",
       "      <th>trainReady</th>\n",
       "      <th>liveEstimateTime</th>\n",
       "      <th>estimateSource</th>\n",
       "    </tr>\n",
       "  </thead>\n",
       "  <tbody>\n",
       "    <tr>\n",
       "      <th>0</th>\n",
       "      <td>6</td>\n",
       "      <td>JNS</td>\n",
       "      <td>460</td>\n",
       "      <td>FI</td>\n",
       "      <td>DEPARTURE</td>\n",
       "      <td>True</td>\n",
       "      <td>True</td>\n",
       "      <td>1</td>\n",
       "      <td>False</td>\n",
       "      <td>2024-02-19T07:00:00.000Z</td>\n",
       "      <td>2024-02-19T07:00:00.000Z</td>\n",
       "      <td>0.0</td>\n",
       "      <td>[]</td>\n",
       "      <td>{'source': 'KUPLA', 'accepted': True, 'timesta...</td>\n",
       "      <td>NaN</td>\n",
       "      <td>NaN</td>\n",
       "    </tr>\n",
       "    <tr>\n",
       "      <th>1</th>\n",
       "      <td>6</td>\n",
       "      <td>PLT</td>\n",
       "      <td>1070</td>\n",
       "      <td>FI</td>\n",
       "      <td>ARRIVAL</td>\n",
       "      <td>False</td>\n",
       "      <td>NaN</td>\n",
       "      <td></td>\n",
       "      <td>False</td>\n",
       "      <td>2024-02-19T07:00:42.000Z</td>\n",
       "      <td>NaN</td>\n",
       "      <td>NaN</td>\n",
       "      <td>[]</td>\n",
       "      <td>NaN</td>\n",
       "      <td>NaN</td>\n",
       "      <td>NaN</td>\n",
       "    </tr>\n",
       "    <tr>\n",
       "      <th>2</th>\n",
       "      <td>6</td>\n",
       "      <td>PLT</td>\n",
       "      <td>1070</td>\n",
       "      <td>FI</td>\n",
       "      <td>DEPARTURE</td>\n",
       "      <td>False</td>\n",
       "      <td>NaN</td>\n",
       "      <td></td>\n",
       "      <td>False</td>\n",
       "      <td>2024-02-19T07:00:42.000Z</td>\n",
       "      <td>NaN</td>\n",
       "      <td>NaN</td>\n",
       "      <td>[]</td>\n",
       "      <td>NaN</td>\n",
       "      <td>NaN</td>\n",
       "      <td>NaN</td>\n",
       "    </tr>\n",
       "    <tr>\n",
       "      <th>3</th>\n",
       "      <td>6</td>\n",
       "      <td>SUL</td>\n",
       "      <td>1071</td>\n",
       "      <td>FI</td>\n",
       "      <td>ARRIVAL</td>\n",
       "      <td>False</td>\n",
       "      <td>NaN</td>\n",
       "      <td></td>\n",
       "      <td>False</td>\n",
       "      <td>2024-02-19T07:01:32.000Z</td>\n",
       "      <td>NaN</td>\n",
       "      <td>NaN</td>\n",
       "      <td>[]</td>\n",
       "      <td>NaN</td>\n",
       "      <td>NaN</td>\n",
       "      <td>NaN</td>\n",
       "    </tr>\n",
       "    <tr>\n",
       "      <th>4</th>\n",
       "      <td>6</td>\n",
       "      <td>SUL</td>\n",
       "      <td>1071</td>\n",
       "      <td>FI</td>\n",
       "      <td>DEPARTURE</td>\n",
       "      <td>False</td>\n",
       "      <td>NaN</td>\n",
       "      <td></td>\n",
       "      <td>False</td>\n",
       "      <td>2024-02-19T07:01:32.000Z</td>\n",
       "      <td>NaN</td>\n",
       "      <td>NaN</td>\n",
       "      <td>[]</td>\n",
       "      <td>NaN</td>\n",
       "      <td>NaN</td>\n",
       "      <td>NaN</td>\n",
       "    </tr>\n",
       "  </tbody>\n",
       "</table>\n",
       "</div>"
      ],
      "text/plain": [
       "   trainNumber stationShortCode  stationUICCode countryCode       type  \\\n",
       "0            6              JNS             460          FI  DEPARTURE   \n",
       "1            6              PLT            1070          FI    ARRIVAL   \n",
       "2            6              PLT            1070          FI  DEPARTURE   \n",
       "3            6              SUL            1071          FI    ARRIVAL   \n",
       "4            6              SUL            1071          FI  DEPARTURE   \n",
       "\n",
       "   trainStopping commercialStop commercialTrack  cancelled  \\\n",
       "0           True           True               1      False   \n",
       "1          False            NaN                      False   \n",
       "2          False            NaN                      False   \n",
       "3          False            NaN                      False   \n",
       "4          False            NaN                      False   \n",
       "\n",
       "              scheduledTime                actualTime  differenceInMinutes  \\\n",
       "0  2024-02-19T07:00:00.000Z  2024-02-19T07:00:00.000Z                  0.0   \n",
       "1  2024-02-19T07:00:42.000Z                       NaN                  NaN   \n",
       "2  2024-02-19T07:00:42.000Z                       NaN                  NaN   \n",
       "3  2024-02-19T07:01:32.000Z                       NaN                  NaN   \n",
       "4  2024-02-19T07:01:32.000Z                       NaN                  NaN   \n",
       "\n",
       "  causes                                         trainReady liveEstimateTime  \\\n",
       "0     []  {'source': 'KUPLA', 'accepted': True, 'timesta...              NaN   \n",
       "1     []                                                NaN              NaN   \n",
       "2     []                                                NaN              NaN   \n",
       "3     []                                                NaN              NaN   \n",
       "4     []                                                NaN              NaN   \n",
       "\n",
       "  estimateSource  \n",
       "0            NaN  \n",
       "1            NaN  \n",
       "2            NaN  \n",
       "3            NaN  \n",
       "4            NaN  "
      ]
     },
     "execution_count": 85,
     "metadata": {},
     "output_type": "execute_result"
    }
   ],
   "source": [
    "\n",
    "# Extract data from nested JSON\n",
    "new_data = []\n",
    "\n",
    "for index, row in df.iterrows(): # loop over every row\n",
    "    train_number = row['trainNumber']\n",
    "\n",
    "    # loop over entries in timeTableRows[]\n",
    "    for entry in row['timeTableRows']: # entry => one data row\n",
    "        new_data_row = {}   \n",
    "        new_data_row['trainNumber'] = row['trainNumber']\n",
    "        for key, value in entry.items():\n",
    "            new_data_row[key] = value\n",
    "    \n",
    "        new_data.append(new_data_row)\n",
    "\n",
    "# Create a new DataFrame based on the extracted rows\n",
    "# new_dataframe = pd.json_normalize(new_data)\n",
    "new_dataframe = pd.DataFrame(new_data)\n",
    "new_dataframe.head()\n"
   ]
  },
  {
   "cell_type": "markdown",
   "metadata": {},
   "source": [
    "5 Then drop the following columns from the data: `causes`, `differenceInMinutes` and `commercialStop`."
   ]
  },
  {
   "cell_type": "code",
   "execution_count": 84,
   "metadata": {},
   "outputs": [
    {
     "ename": "AttributeError",
     "evalue": "'NoneType' object has no attribute 'head'",
     "output_type": "error",
     "traceback": [
      "\u001b[1;31m---------------------------------------------------------------------------\u001b[0m",
      "\u001b[1;31mAttributeError\u001b[0m                            Traceback (most recent call last)",
      "Cell \u001b[1;32mIn[84], line 3\u001b[0m\n\u001b[0;32m      1\u001b[0m new_dataframe \u001b[38;5;241m=\u001b[39m new_dataframe\u001b[38;5;241m.\u001b[39mdrop([\u001b[38;5;124m'\u001b[39m\u001b[38;5;124mcauses\u001b[39m\u001b[38;5;124m'\u001b[39m, \u001b[38;5;124m'\u001b[39m\u001b[38;5;124mdifferenceInMinutes\u001b[39m\u001b[38;5;124m'\u001b[39m, \u001b[38;5;124m'\u001b[39m\u001b[38;5;124mcommercialStop\u001b[39m\u001b[38;5;124m'\u001b[39m], axis\u001b[38;5;241m=\u001b[39m\u001b[38;5;241m1\u001b[39m, inplace\u001b[38;5;241m=\u001b[39m\u001b[38;5;28;01mTrue\u001b[39;00m)\n\u001b[1;32m----> 3\u001b[0m new_dataframe\u001b[38;5;241m.\u001b[39mhead()\n",
      "\u001b[1;31mAttributeError\u001b[0m: 'NoneType' object has no attribute 'head'"
     ]
    }
   ],
   "source": [
    "new_dataframe.drop(['causes', 'differenceInMinutes', 'commercialStop'], axis=1, inplace=True)\n",
    "\n",
    "new_dataframe.head()\n",
    "\n",
    "# df.head()"
   ]
  },
  {
   "cell_type": "markdown",
   "metadata": {},
   "source": [
    "6 Fill in the missing values ​​of the `actualTime` column in each row with the values of the `scheduledTime` column."
   ]
  },
  {
   "cell_type": "code",
   "execution_count": null,
   "metadata": {},
   "outputs": [],
   "source": [
    "#"
   ]
  },
  {
   "cell_type": "markdown",
   "metadata": {},
   "source": [
    "### Section 2\n",
    "\n",
    "7 Extract the cell values ​​of the `table` element of the `data.html` file using the regex syntax and connect them to the dataframe created in step 1. **Note**: only regex should be used in the task (E.g. the use of Pandas' read_html() method is prohibited)!"
   ]
  },
  {
   "cell_type": "code",
   "execution_count": null,
   "metadata": {},
   "outputs": [
    {
     "data": {
      "text/plain": [
       "'<!DOCTYPE html>\\n\\n<html>\\n<head>\\n    <meta charset=\"utf-8\">\\n    <style>\\n        \\n        table, th, td {\\n            border: 1px solid black;\\n            border-collapse: collapse;\\n            }\\n\\n        table{\\n            width: 75%;\\n            margin-left: auto;\\n            margin-right: auto;\\n            text-align: center;\\n        }\\n\\n        td{\\n            padding: 5px;\\n        }\\n\\n        #actualTime{\\n            background-color: green\\n        }\\n    </style>\\n\\n</head>\\n\\n\\n<header>\\n\\n</header>\\n\\n\\n<body>\\n\\n    <table>\\n        <tr id=\"actualTime\">\\n\\n                <th>actualTime</th>\\n                <th>cancelled</th>\\n                <th>commercialTrack</th>\\n                <th>countryCode</th>\\n                <th>scheduledTime</th>\\n                <th>stationShortCode</th>\\n                <th>stationUICCode</th>\\n                <th>trainStopping</th>\\n                <th>type</th>\\n                <th>trainNumber</th>\\t\\t\\t\\t\\t\\t\\t\\t\\t\\n        </tr>\\n\\n        <tr class=\"type\">\\n                \\t\\t\\t\\t\\t\\t\\t\\t\\n                <td>\\n                        2019-08-06T04:48:00.000Z\\n                </td>\\n                <td>\\n                        False\\n                </td>\\n                <td>\\n                        \\n                </td>\\n                <td>\\n                        FI\\n                </td>\\n                <td>\\n                        2019-08-06T04:48:00.000Z\\n                </td>\\n                <td>\\n                        JVS\\t\\n                </td>\\n                <td>\\n                        1272\\n                </td>\\n                <td>\\n                        False\\n                </td>\\n\\n                <td>\\n                        DEPARTURE\\n                </td>\\n\\n                <td>\\n                        150\\n                </td>\\n\\n            </tr>\\n            <tr class=\"countryCode\">\\n                <td>\\n                        2019-08-06T06:04:39.000Z\\n                </td>\\n                <td>\\n                        False\\n                </td>\\n                <td>\\n\\n                </td>\\n                <td>\\n                        FI\\n                </td>\\n                <td>\\n                        2019-08-06T06:04:39.000Z\\n                </td>\\n                <td>\\n                        R702\\n                </td>\\n                <td>\\n                        98998\\n                </td>\\n                <td>\\n                        False\\n                </td>\\n\\n                <td>\\n                        ARRIVAL\\n                </td>\\n\\n                <td>\\n                        150\\n                </td>\\n        </tr>\\n\\n\\n        <tr>\\n                <td>\\n                        2019-08-06T07:03:12.000Z\\n                </td>\\n                <td>\\n                        False\\n                </td>\\n                <td>\\n                        \\n                </td>\\n                <td>\\n                        FI\\n                </td>\\n                <td>\\n                        2019-08-06T07:03:12.000Z\\n                </td>\\n                <td>\\n                        ILA\\n                </td>\\n                <td>\\n                        98998\\n                </td>\\n                <td>\\n                        9\\n                </td>\\n\\n                <td>\\n                        ARRIVAL\\n                </td>\\n\\n                <td>\\n                        8337\\n                </td>\\n        </tr>\\n\\n\\n    </table>\\n\\n</body>\\n\\n\\n<footer>\\n\\n\\n</footer>\\n</html>'"
      ]
     },
     "execution_count": 47,
     "metadata": {},
     "output_type": "execute_result"
    }
   ],
   "source": [
    "import re\n",
    "tr_pattern = r\"<tr[^>]*>(.*?)<\\/tr>\" # table rows, ignore attributes\n",
    "th_pattern = r\"<th>(.*?)<\\/th>\" # dataframe columns\n",
    "td_pattern = r\"<td>(.*?)<\\/td>\" # dataframe rows\n",
    "\n",
    "with open(\"./data.html\") as file:\n",
    "    html_data = file.read()\n",
    "\n",
    "columns = re.findall(th_pattern, html_data)\n",
    "\n",
    "# rows = \n",
    "# table_data = []\n",
    "\n",
    "# table_df = pd.DataFrame\n",
    "\n",
    "# columns\n",
    "html_data"
   ]
  },
  {
   "cell_type": "markdown",
   "metadata": {},
   "source": [
    "### Section 3\n",
    "\n",
    "8 Make a SQLite database and insert the dataframe obtained as a result of step 2 to the database."
   ]
  },
  {
   "cell_type": "code",
   "execution_count": null,
   "metadata": {
    "tags": []
   },
   "outputs": [
    {
     "ename": "AttributeError",
     "evalue": "'NoneType' object has no attribute 'to_sql'",
     "output_type": "error",
     "traceback": [
      "\u001b[1;31m---------------------------------------------------------------------------\u001b[0m",
      "\u001b[1;31mAttributeError\u001b[0m                            Traceback (most recent call last)",
      "Cell \u001b[1;32mIn[48], line 7\u001b[0m\n\u001b[0;32m      4\u001b[0m db_connection \u001b[38;5;241m=\u001b[39m sqlite3\u001b[38;5;241m.\u001b[39mconnect(\u001b[38;5;124m'\u001b[39m\u001b[38;5;124mfinal.db\u001b[39m\u001b[38;5;124m'\u001b[39m)\n\u001b[0;32m      6\u001b[0m \u001b[38;5;66;03m# Save dataframe to database\u001b[39;00m\n\u001b[1;32m----> 7\u001b[0m df\u001b[38;5;241m.\u001b[39mto_sql(name\u001b[38;5;241m=\u001b[39m\u001b[38;5;124m'\u001b[39m\u001b[38;5;124mlive_trains\u001b[39m\u001b[38;5;124m'\u001b[39m, con\u001b[38;5;241m=\u001b[39mdb_connection, if_exists\u001b[38;5;241m=\u001b[39m\u001b[38;5;124m'\u001b[39m\u001b[38;5;124mfail\u001b[39m\u001b[38;5;124m'\u001b[39m, index\u001b[38;5;241m=\u001b[39m\u001b[38;5;28;01mFalse\u001b[39;00m)\n\u001b[0;32m      9\u001b[0m \u001b[38;5;66;03m# Close the connect\u001b[39;00m\n\u001b[0;32m     10\u001b[0m db_connection\u001b[38;5;241m.\u001b[39mclose()\n",
      "\u001b[1;31mAttributeError\u001b[0m: 'NoneType' object has no attribute 'to_sql'"
     ]
    }
   ],
   "source": [
    "import sqlite3\n",
    "\n",
    "# Create a database connection\n",
    "db_connection = sqlite3.connect('final.db')\n",
    "\n",
    "# Save dataframe to database\n",
    "df.to_sql(name='live_trains', con=db_connection, if_exists='fail', index=False)\n",
    "\n",
    "# Close the connect\n",
    "db_connection.close()"
   ]
  },
  {
   "cell_type": "code",
   "execution_count": null,
   "metadata": {},
   "outputs": [],
   "source": []
  }
 ],
 "metadata": {
  "kernelspec": {
   "display_name": "Python 3 (ipykernel)",
   "language": "python",
   "name": "python3"
  },
  "language_info": {
   "codemirror_mode": {
    "name": "ipython",
    "version": 3
   },
   "file_extension": ".py",
   "mimetype": "text/x-python",
   "name": "python",
   "nbconvert_exporter": "python",
   "pygments_lexer": "ipython3",
   "version": "3.11.5"
  }
 },
 "nbformat": 4,
 "nbformat_minor": 4
}
